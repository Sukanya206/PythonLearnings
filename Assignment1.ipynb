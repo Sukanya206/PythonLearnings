{
 "cells": [
  {
   "cell_type": "markdown",
   "id": "96e5728e",
   "metadata": {},
   "source": [
    "# Assignment1\n",
    "## BAN200ZAA\n",
    "### Group 3\n",
    "#### Group Members:\n",
    "##### Sukanya Mukherjee, James Zhai, Chin Hooi Yap, Matt Nakamura"
   ]
  },
  {
   "cell_type": "code",
   "execution_count": 1,
   "id": "1c2131cd",
   "metadata": {},
   "outputs": [
    {
     "name": "stdout",
     "output_type": "stream",
     "text": [
      "True\n",
      "False\n"
     ]
    }
   ],
   "source": [
    "# Sukanya Mukherjee\n",
    "\n",
    "# isalnum()\tReturns True if all characters in the string are alphanumeric\n",
    "txt1 = \"Group3\"\n",
    "txt2 = \"Group 3\"\n",
    "x = txt1.isalnum()\n",
    "y = txt2.isalnum()\n",
    "print(x)\n",
    "print(y)"
   ]
  },
  {
   "cell_type": "code",
   "execution_count": 12,
   "id": "f1a12909",
   "metadata": {},
   "outputs": [
    {
     "name": "stdout",
     "output_type": "stream",
     "text": [
      "True\n",
      "False\n"
     ]
    }
   ],
   "source": [
    "# isalpha()\tReturns True if all characters in the string are in the alphabet\n",
    "txt1 = \"Group\"\n",
    "txt2 = \"Group 3\"\n",
    "x = txt1.isalpha()\n",
    "y = txt2.isalpha()\n",
    "print(x)\n",
    "print(y)"
   ]
  },
  {
   "cell_type": "code",
   "execution_count": 15,
   "id": "dfe233e2",
   "metadata": {},
   "outputs": [
    {
     "name": "stdout",
     "output_type": "stream",
     "text": [
      "True\n",
      "False\n"
     ]
    }
   ],
   "source": [
    "# isdecimal()\tReturns True if all characters in the string are decimals (use unicode)\n",
    "txt1 = \"\\u0033\"\n",
    "txt2 = \"Group.3\"\n",
    "x = txt1.isdecimal()\n",
    "y = txt2.isdecimal()\n",
    "print(x)\n",
    "print(y)"
   ]
  },
  {
   "cell_type": "code",
   "execution_count": 23,
   "id": "25aa0ed6",
   "metadata": {},
   "outputs": [
    {
     "name": "stdout",
     "output_type": "stream",
     "text": [
      "True\n",
      "False\n"
     ]
    }
   ],
   "source": [
    "# isdigit()\tReturns True if all characters in the string are digits\n",
    "txt1 = \"12345\"\n",
    "txt2 = \"Group3\"\n",
    "x = txt1.isdigit()\n",
    "y = txt2.isdigit()\n",
    "print(x)\n",
    "print(y)"
   ]
  },
  {
   "cell_type": "code",
   "execution_count": 24,
   "id": "7813120a",
   "metadata": {},
   "outputs": [
    {
     "name": "stdout",
     "output_type": "stream",
     "text": [
      "True\n",
      "False\n"
     ]
    }
   ],
   "source": [
    "# isidentifier()\tReturns True if the string is an identifier\n",
    "txt1 = \"Class\"\n",
    "txt2 = \"Group.3\"\n",
    "x = txt1.isidentifier()\n",
    "y = txt2.isidentifier()\n",
    "print(x)\n",
    "print(y)"
   ]
  },
  {
   "cell_type": "code",
   "execution_count": 25,
   "id": "cd3893d6",
   "metadata": {},
   "outputs": [
    {
     "name": "stdout",
     "output_type": "stream",
     "text": [
      "True\n",
      "False\n"
     ]
    }
   ],
   "source": [
    "# isnumeric()\tReturns True if all characters in the string are numeric\n",
    "txt1 = \"12345\"\n",
    "txt2 = \"Group3\"\n",
    "x = txt1.isnumeric()\n",
    "y = txt2.isnumeric()\n",
    "print(x)\n",
    "print(y)"
   ]
  },
  {
   "cell_type": "code",
   "execution_count": 27,
   "id": "7ea26b82",
   "metadata": {},
   "outputs": [
    {
     "name": "stdout",
     "output_type": "stream",
     "text": [
      "True\n",
      "False\n"
     ]
    }
   ],
   "source": [
    "# isprintable()\tReturns True if all characters in the string are printable\n",
    "txt1 = \"Group3\"\n",
    "txt2 = \"Group\\n3\"\n",
    "x = txt1.isprintable()\n",
    "y = txt2.isprintable()\n",
    "print(x)\n",
    "print(y)"
   ]
  },
  {
   "cell_type": "code",
   "execution_count": 28,
   "id": "df215ecc",
   "metadata": {},
   "outputs": [
    {
     "name": "stdout",
     "output_type": "stream",
     "text": [
      "True\n",
      "False\n"
     ]
    }
   ],
   "source": [
    "# isspace()\tReturns True if all characters in the string are whitespaces\n",
    "txt1 = \" \"\n",
    "txt2 = \"Group3\"\n",
    "x = txt1.isspace()\n",
    "y = txt2.isspace()\n",
    "print(x)\n",
    "print(y)"
   ]
  },
  {
   "cell_type": "code",
   "execution_count": 30,
   "id": "bff87bda",
   "metadata": {},
   "outputs": [
    {
     "name": "stdout",
     "output_type": "stream",
     "text": [
      "True\n",
      "False\n"
     ]
    }
   ],
   "source": [
    "# istitle()\tReturns True if the string follows the rules of a title\n",
    "txt1 = \"Group3!! \"\n",
    "txt2 = \"12345\"\n",
    "x = txt1.istitle()\n",
    "y = txt2.istitle()\n",
    "print(x)\n",
    "print(y)"
   ]
  },
  {
   "cell_type": "code",
   "execution_count": null,
   "id": "d1d0cb33",
   "metadata": {},
   "outputs": [],
   "source": []
  }
 ],
 "metadata": {
  "kernelspec": {
   "display_name": "Python 3",
   "language": "python",
   "name": "python3"
  },
  "language_info": {
   "codemirror_mode": {
    "name": "ipython",
    "version": 3
   },
   "file_extension": ".py",
   "mimetype": "text/x-python",
   "name": "python",
   "nbconvert_exporter": "python",
   "pygments_lexer": "ipython3",
   "version": "3.6.15"
  }
 },
 "nbformat": 4,
 "nbformat_minor": 5
}
