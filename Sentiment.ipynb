{
  "nbformat": 4,
  "nbformat_minor": 0,
  "metadata": {
    "colab": {
      "name": "Sentiment.ipynb",
      "provenance": []
    },
    "kernelspec": {
      "name": "python3",
      "display_name": "Python 3"
    },
    "language_info": {
      "name": "python"
    }
  },
  "cells": [
    {
      "cell_type": "code",
      "execution_count": null,
      "metadata": {
        "id": "DU1NUpaGlo7-"
      },
      "outputs": [],
      "source": [
        "from textblob import TextBlob"
      ]
    },
    {
      "cell_type": "code",
      "source": [
        "feedback1=\"the job is so frustrating\"\n",
        "feedback2=\"the job is so challenging\"\n",
        "feedback3=\"the job is so tiring\"\n",
        "feedback4=\"the job is so exhausting\"\n",
        "feedback5=\"the job market is so competitive\"\n",
        "feedback6=\"at the end of the day, my job gives me a purpose\"\n",
        "blob1=TextBlob(feedback1)\n",
        "blob2=TextBlob(feedback2)\n",
        "blob3=TextBlob(feedback3)\n",
        "blob4=TextBlob(feedback4)\n",
        "blob5=TextBlob(feedback5)\n",
        "blob6=TextBlob(feedback6)\n",
        "print(blob1.sentiment)\n",
        "print(blob2.sentiment)\n",
        "print(blob3.sentiment)\n",
        "print(blob4.sentiment)\n",
        "print(blob5.sentiment)\n",
        "print(blob6.sentiment)"
      ],
      "metadata": {
        "colab": {
          "base_uri": "https://localhost:8080/"
        },
        "id": "l5FLJDMemDjg",
        "outputId": "6b7bd012-633e-4c8e-e468-7d049cee5d70"
      },
      "execution_count": null,
      "outputs": [
        {
          "output_type": "stream",
          "name": "stdout",
          "text": [
            "Sentiment(polarity=-0.4, subjectivity=0.9)\n",
            "Sentiment(polarity=0.5, subjectivity=1.0)\n",
            "Sentiment(polarity=0.0, subjectivity=0.0)\n",
            "Sentiment(polarity=-0.4, subjectivity=0.5)\n",
            "Sentiment(polarity=0.0, subjectivity=0.0)\n",
            "Sentiment(polarity=0.0, subjectivity=0.0)\n"
          ]
        }
      ]
    },
    {
      "cell_type": "code",
      "source": [
        "import nltk\n",
        "from textblob import TextBlob"
      ],
      "metadata": {
        "id": "nELd0stOu0Zn"
      },
      "execution_count": null,
      "outputs": []
    },
    {
      "cell_type": "code",
      "source": [
        "feedback1=\"cruel\"\n",
        "feedback2=\"sometimes i am very sad, sometimes i am not happy\"\n",
        "feedback3=\"extremely tiring\"\n",
        "feedback4=\"school\"\n",
        "feedback5=\"amazing!!\"\n",
        "feedback6=\"awesome\"\n",
        "blob1=TextBlob(feedback1)\n",
        "blob2=TextBlob(feedback2)\n",
        "blob3=TextBlob(feedback3)\n",
        "blob4=TextBlob(feedback4)\n",
        "blob5=TextBlob(feedback5)\n",
        "blob6=TextBlob(feedback6)\n",
        "print(blob1.sentiment)\n",
        "print(blob2.sentiment)\n",
        "print(blob3.sentiment)\n",
        "print(blob4.sentiment)\n",
        "print(blob5.sentiment)\n",
        "print(blob6.sentiment)"
      ],
      "metadata": {
        "colab": {
          "base_uri": "https://localhost:8080/"
        },
        "id": "v0zuR2AbvOQe",
        "outputId": "1b9a1de1-3282-428d-d4cc-ffaec48e1782"
      },
      "execution_count": null,
      "outputs": [
        {
          "output_type": "stream",
          "name": "stdout",
          "text": [
            "Sentiment(polarity=-1.0, subjectivity=1.0)\n",
            "Sentiment(polarity=-0.525, subjectivity=1.0)\n",
            "Sentiment(polarity=-0.125, subjectivity=1.0)\n",
            "Sentiment(polarity=0.0, subjectivity=0.0)\n",
            "Sentiment(polarity=0.9375000000000001, subjectivity=0.9)\n",
            "Sentiment(polarity=1.0, subjectivity=1.0)\n"
          ]
        }
      ]
    }
  ]
}